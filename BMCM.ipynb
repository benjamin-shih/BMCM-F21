{
 "cells": [
  {
   "cell_type": "code",
   "execution_count": 3,
   "id": "cdb88fd2",
   "metadata": {},
   "outputs": [],
   "source": [
    "import numpy as np\n",
    "import random as rand\n",
    "import random\n",
    "import matplotlib.pyplot as plt\n",
    "from matplotlib import rc\n",
    "from matplotlib import colors\n",
    "from dataclasses import dataclass\n",
    "plt.rcParams['figure.dpi'] = 300\n",
    "plt.rcParams['savefig.dpi'] = 300"
   ]
  },
  {
   "cell_type": "markdown",
   "id": "f5725b04",
   "metadata": {},
   "source": [
    "## Constants\n",
    "\n",
    "B $\\rightarrow$ rate of biomass decay \\\n",
    "SIZE $\\rightarrow$ dimension of environment \\\n",
    "TIME $\\rightarrow$ Number of time steps to simulate \n",
    "K -> L(B) const\n",
    "J -> L(B) const"
   ]
  },
  {
   "cell_type": "code",
   "execution_count": 6,
   "id": "c7cdd05e",
   "metadata": {},
   "outputs": [],
   "source": [
    "B = 0.05\n",
    "J = 0.5\n",
    "K = 0.3"
   ]
  },
  {
   "cell_type": "markdown",
   "id": "4736ac9e",
   "metadata": {},
   "source": [
    "## Cell Information\n",
    "\n",
    "Biomass $\\textit{biomass: float} \\rightarrow$ The amount of biomass at a particular cell \\\n",
    "Burn Status $\\textit{on_fire: bool} \\rightarrow$ Whether or not a particular cell is burning"
   ]
  },
  {
   "cell_type": "code",
   "execution_count": null,
   "id": "cd8b18f4",
   "metadata": {},
   "outputs": [],
   "source": [
    "@dataclass\n",
    "class Cell:\n",
    "    \"\"\"Class for keeping track of an information in a cell.\"\"\"\n",
    "    curr_biomass: float\n",
    "    max_biomass: float\n",
    "    on_fire: bool\n",
    "        \n",
    "    def __init__(self, curr_biomass=0.0, max_biomass=1.0, on_fire=False):\n",
    "        self.curr_biomass = curr_biomass\n",
    "        self.max_biomass = max_biomass\n",
    "        self.on_fire = on_fire\n",
    "    \n",
    "    def calculate_distribution(self):\n",
    "        \"\"\"\n",
    "        Calculates the probability distribution for fire spread to neighboring cells based on current cell parameters.\n",
    "        \"\"\"\n",
    "        pass\n",
    "    \n",
    "    def set_fire(self):\n",
    "        self.on_fire = True\n",
    "        \n",
    "    def n_t(self):\n",
    "        pass\n",
    "    \n",
    "    def l_b(self):\n",
    "        return (self.curr_biomass / self.max_biomass) * J + K\n",
    "\n",
    "class Normal(Cell):\n",
    "    \"\"\"Normal cell class\"\"\"\n",
    "    def n_t(self):\n",
    "        return random.choices(population=[0, 1, 2], weights=[0.85, 0.13, 0.02])\n",
    "\n",
    "class HRB(Cell):\n",
    "    \"\"\"HRB cell class\"\"\" \n",
    "    def n_t(self):\n",
    "        return random.choices(population=[0, 1, 2], weights=[0.9, 0.09, 0.01])\n",
    "    \n",
    "class Log(Cell):\n",
    "    \"\"\"Logged cell class\"\"\"\n",
    "    def calculate_distribution(self):\n",
    "        return random.choices(population=[0, 1, 2], weights=[0.5, 0.35, 0.15])"
   ]
  },
  {
   "cell_type": "code",
   "execution_count": 21,
   "id": "29877bec",
   "metadata": {},
   "outputs": [],
   "source": [
    "TYPES = [HRB, Normal, Log]\n",
    "    \n",
    "class Env:\n",
    "    \"\"\"Environment class\"\"\"\n",
    "    size: int\n",
    "    max_time: int\n",
    "        \n",
    "    def __init__(self, size: int, max_time=100):\n",
    "        self.size = size\n",
    "        self.map = np.array([[random.choice(TYPES)(0.0, bool(random.getrandbits(1))) for _ in range(self.size)] \\\n",
    "                             for _ in range(self.size)], dtype=object)\n",
    "        #locations of currently burning cells\n",
    "        self.curr_burn = [(i, j) for i in range(self.size) \\\n",
    "                              for j in range(self.size) if self.map[i, j].on_fire is True] \n",
    "    \n",
    "    def simulate(self):\n",
    "        while t < self.max_time:\n",
    "            curr_add_burn = set() # keep current burned during a single tick in a set so no instantaneous burn\n",
    "            #look at what's burning already since only those cells can change state\n",
    "            for (i, j) in self.curr_burn:\n",
    "                #check the adjacent cells to see if they're on fire and set fire\n",
    "                #LOCAL SPREAD\n",
    "                if not self.map[i - 1, j].on_fire and (i - 1 >= 0): #left\n",
    "                    set_fire_prob = self.map[i, j].l_b / 4.0\n",
    "                    if random.random() < set_fire_prob:\n",
    "                        curr_add_burn.add((i - 1, j))\n",
    "                if not self.map[i, j - 1].on_fire and (j - 1 >= 0): #top\n",
    "                    set_fire_prob = self.map[i, j].l_b / 4.0\n",
    "                    if random.random() < set_fire_prob:\n",
    "                        curr_add_burn.add((i, j - 1))\n",
    "                if not self.map[i + 1, j].on_fire and (j - 1 < self.size): #right\n",
    "                    set_fire_prob = self.map[i, j].l_b / 4.0\n",
    "                    if random.random() < set_fire_prob:\n",
    "                        curr_add_burn.add((i + 1, j))     \n",
    "                if not self.map[i, j + 1].on_fire and (j - 1 < self.size): #bottom\n",
    "                    set_fire_prob = self.map[i, j].l_b / 4.0\n",
    "                    if random.random() < set_fire_prob:\n",
    "                        curr_add_burn.add((i, j + 1))\n",
    "                #NONLOCAL SPREAD\n",
    "                num_nonlocal = self.map[i, j].n_t()\n",
    "                \n",
    "            for (i, j) in curr_add_burn:\n",
    "                self.map[i, j].set_fire()\n",
    "            t += 1\n",
    "    \n",
    "    def populate_state(self, plot_type=\"terrain\"):\n",
    "        ret = np.array([[0 for _ in range(self.size)] for _ in range(self.size)])\n",
    "        if plot_type == \"burn\":\n",
    "            for i in range(self.size):\n",
    "                for j in range(self.size):\n",
    "                    if self.map[i, j].set_fire:\n",
    "                        ret[i, j] = 0\n",
    "                    else:\n",
    "                        ret[i, j] = 1\n",
    "        else:\n",
    "            for i in range(self.size):\n",
    "                for j in range(self.size):\n",
    "                    if isinstance(self.map[i, j], Normal):\n",
    "                        ret[i, j] = 0\n",
    "                    elif isinstance(self.map[i, j], HRB):\n",
    "                        ret[i, j] = 1\n",
    "                    elif isinstance(self.map[i, j], Log):\n",
    "                        ret[i, j] = 2\n",
    "        return ret\n",
    "    \n",
    "    def plot_simulations(self, t=0, plot_type=\"terrain\"):\n",
    "        # create discrete colormap\n",
    "        curr_state = self.populate_state()\n",
    "        terrain_colors = colors.ListedColormap(['#24422c', '#4a8a5b', '#aab560'])\n",
    "        if plot_type == \"burn\":\n",
    "            curr_state = self.populate_state(\"burn\")\n",
    "            terrain_colors = colors.ListedColormap(['#000000', '#4a8a5b'])\n",
    "        fig, ax = plt.subplots()\n",
    "        ax.imshow(curr_state, cmap=terrain_colors)\n",
    "        ax.grid(which='major', axis='both', linestyle='-', color='k', linewidth=1)\n",
    "        plt.axis('off')\n",
    "        plt.figtext(0.5, 0.01, \"Land map at time t = \" + str(t), wrap=True, horizontalalignment='center', fontsize=10)\n",
    "        plt.show()"
   ]
  },
  {
   "cell_type": "code",
   "execution_count": 22,
   "id": "74195928",
   "metadata": {},
   "outputs": [
    {
     "data": {
      "text/plain": [
       "array([[HRB(curr_biomass=0.0, max_biomass=True, on_fire=False),\n",
       "        HRB(curr_biomass=0.0, max_biomass=True, on_fire=False),\n",
       "        Normal(curr_biomass=0.0, max_biomass=True, on_fire=False), ...,\n",
       "        Log(curr_biomass=0.0, max_biomass=True, on_fire=False),\n",
       "        HRB(curr_biomass=0.0, max_biomass=False, on_fire=False),\n",
       "        HRB(curr_biomass=0.0, max_biomass=True, on_fire=False)],\n",
       "       [Log(curr_biomass=0.0, max_biomass=True, on_fire=False),\n",
       "        HRB(curr_biomass=0.0, max_biomass=False, on_fire=False),\n",
       "        Normal(curr_biomass=0.0, max_biomass=False, on_fire=False), ...,\n",
       "        Normal(curr_biomass=0.0, max_biomass=False, on_fire=False),\n",
       "        HRB(curr_biomass=0.0, max_biomass=False, on_fire=False),\n",
       "        Normal(curr_biomass=0.0, max_biomass=True, on_fire=False)],\n",
       "       [Normal(curr_biomass=0.0, max_biomass=True, on_fire=False),\n",
       "        Normal(curr_biomass=0.0, max_biomass=True, on_fire=False),\n",
       "        Normal(curr_biomass=0.0, max_biomass=False, on_fire=False), ...,\n",
       "        HRB(curr_biomass=0.0, max_biomass=True, on_fire=False),\n",
       "        HRB(curr_biomass=0.0, max_biomass=False, on_fire=False),\n",
       "        Log(curr_biomass=0.0, max_biomass=False, on_fire=False)],\n",
       "       ...,\n",
       "       [HRB(curr_biomass=0.0, max_biomass=False, on_fire=False),\n",
       "        HRB(curr_biomass=0.0, max_biomass=False, on_fire=False),\n",
       "        Normal(curr_biomass=0.0, max_biomass=True, on_fire=False), ...,\n",
       "        Log(curr_biomass=0.0, max_biomass=False, on_fire=False),\n",
       "        HRB(curr_biomass=0.0, max_biomass=False, on_fire=False),\n",
       "        HRB(curr_biomass=0.0, max_biomass=False, on_fire=False)],\n",
       "       [HRB(curr_biomass=0.0, max_biomass=False, on_fire=False),\n",
       "        Log(curr_biomass=0.0, max_biomass=True, on_fire=False),\n",
       "        Normal(curr_biomass=0.0, max_biomass=True, on_fire=False), ...,\n",
       "        Normal(curr_biomass=0.0, max_biomass=True, on_fire=False),\n",
       "        Log(curr_biomass=0.0, max_biomass=False, on_fire=False),\n",
       "        Normal(curr_biomass=0.0, max_biomass=True, on_fire=False)],\n",
       "       [Log(curr_biomass=0.0, max_biomass=False, on_fire=False),\n",
       "        HRB(curr_biomass=0.0, max_biomass=True, on_fire=False),\n",
       "        HRB(curr_biomass=0.0, max_biomass=False, on_fire=False), ...,\n",
       "        HRB(curr_biomass=0.0, max_biomass=False, on_fire=False),\n",
       "        Log(curr_biomass=0.0, max_biomass=False, on_fire=False),\n",
       "        Log(curr_biomass=0.0, max_biomass=True, on_fire=False)]],\n",
       "      dtype=object)"
      ]
     },
     "execution_count": 22,
     "metadata": {},
     "output_type": "execute_result"
    }
   ],
   "source": [
    "test = Env(100)\n",
    "test.map"
   ]
  },
  {
   "cell_type": "code",
   "execution_count": 23,
   "id": "6aae83d8",
   "metadata": {},
   "outputs": [
    {
     "data": {
      "image/png": "[encoded data removed]",
      "text/plain": [
       "<Figure size 1800x1200 with 1 Axes>"
      ]
     },
     "metadata": {
      "needs_background": "light"
     },
     "output_type": "display_data"
    }
   ],
   "source": [
    "test.populate_state()\n",
    "test.plot_simulations()"
   ]
  }
 ],
 "metadata": {
  "kernelspec": {
   "display_name": "Python 3",
   "language": "python",
   "name": "python3"
  },
  "language_info": {
   "codemirror_mode": {
    "name": "ipython",
    "version": 3
   },
   "file_extension": ".py",
   "mimetype": "text/x-python",
   "name": "python",
   "nbconvert_exporter": "python",
   "pygments_lexer": "ipython3",
   "version": "3.8.3"
  }
 },
 "nbformat": 4,
 "nbformat_minor": 5
}
