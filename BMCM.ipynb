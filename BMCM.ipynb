{
 "cells": [
  {
   "cell_type": "code",
   "execution_count": 1,
   "id": "cdb88fd2",
   "metadata": {},
   "outputs": [],
   "source": [
    "import numpy as np\n",
    "import random as rand"
   ]
  },
  {
   "cell_type": "markdown",
   "id": "4736ac9e",
   "metadata": {},
   "source": [
    "## Constants\n",
    "\n",
    "B $\\rightarrow$ rate of biomass decay \\\n",
    "Size $\\rightarrow$ dimension of environment"
   ]
  },
  {
   "cell_type": "code",
   "execution_count": 4,
   "id": "29877bec",
   "metadata": {},
   "outputs": [],
   "source": [
    "from dataclasses import dataclass\n",
    "\n",
    "@dataclass\n",
    "class Cell:\n",
    "    \"\"\"Class for keeping track of an information in a cell.\"\"\"\n",
    "    c_type: str\n",
    "    biomass: float\n",
    "    on_fire: bool\n",
    "    canopy: bool\n",
    "    \n",
    "    def calculate_distribution(self):\n",
    "        \"\"\"\n",
    "        Calculates the probability distribution for fire spread to neighboring cells based on current cell parameters.\n",
    "        \"\"\"\n",
    "        return dist"
   ]
  },
  {
   "cell_type": "code",
   "execution_count": 5,
   "id": "c7cdd05e",
   "metadata": {},
   "outputs": [],
   "source": [
    "C = Cell(\"Test\", 0.0, False, False)\n",
    "env = np.array((10, 10))"
   ]
  },
  {
   "cell_type": "code",
   "execution_count": 6,
   "id": "8904dc39",
   "metadata": {},
   "outputs": [
    {
     "data": {
      "text/plain": [
       "Cell(c_type='Test', biomass=0.0, on_fire=False, canopy=False)"
      ]
     },
     "execution_count": 6,
     "metadata": {},
     "output_type": "execute_result"
    }
   ],
   "source": [
    "C"
   ]
  },
  {
   "cell_type": "code",
   "execution_count": null,
   "id": "1d60bcf8",
   "metadata": {},
   "outputs": [],
   "source": []
  }
 ],
 "metadata": {
  "kernelspec": {
   "display_name": "Python 3",
   "language": "python",
   "name": "python3"
  },
  "language_info": {
   "codemirror_mode": {
    "name": "ipython",
    "version": 3
   },
   "file_extension": ".py",
   "mimetype": "text/x-python",
   "name": "python",
   "nbconvert_exporter": "python",
   "pygments_lexer": "ipython3",
   "version": "3.8.3"
  }
 },
 "nbformat": 4,
 "nbformat_minor": 5
}
